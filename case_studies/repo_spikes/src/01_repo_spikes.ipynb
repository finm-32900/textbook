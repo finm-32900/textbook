{
 "cells": [
  {
   "cell_type": "markdown",
   "id": "323c3791",
   "metadata": {},
   "source": [
    "# Rate Spikes in the Market for Repurchase Agreements\n",
    "\n",
    "\n",
    "## What is the role of the repo market and why is it important?\n",
    "\n",
    "The market for repurchase agreements, commonly known as the repo market,\n",
    "serves as a cornerstone for short-term financing among financial institutions.\n",
    "This market enables entities, including banks, dealers, money market funds,\n",
    "insurance companies, pension funds, and other entities, to obtain liquidity on\n",
    "an overnight basis or for other short tenures, thereby ensuring operational\n",
    "continuity.  Its collateralized nature minimizes credit risk, making it a\n",
    "preferred avenue for secure, short-term lending and borrowing. \n",
    "\n",
    "Moreover, the repo market is critical in implementing monetary policy, especially considering the diminished role of the unsecured interbank market compared to the secured market following the 2007-2008 financial crisis. Its central role in providing liquidity and facilitating monetary policy execution underscores the necessity of the repo market's efficient functioning for financial stability and the broader economy. Disruptions within this market can have widespread impacts, affecting various financial participants, including banks, money market funds, hedge funds, and corporations.\n"
   ]
  },
  {
   "cell_type": "markdown",
   "id": "9244cb12",
   "metadata": {},
   "source": [
    "## What is a repurchase agreement?\n",
    "\n",
    "A repurchase agreement, often referred to as a repo, is a form of short-term borrowing mainly used in the money markets.\n",
    "A repurchase agreement can be visualized as follows. The following Figure is from *Fixed Income Securities*, by Veronsi.\n",
    "This demonstrates a trader purchasing a bond in the market and financing the purchase via a repurchase agreement.\n",
    "\n",
    "![](./assets/hw01_repo_diagram_veronesi.png)\n",
    "\n",
    "### At Time $t$\n",
    "\n",
    "1. **Choosing Bond to Finance**:\n",
    "   - The **TRADER** initiates the transaction by purchasing a bond from the **MARKET** at a price $P_t$.\n",
    "   - The **TRADER** then agrees to sell this bond to the **REPO DEALER** while simultaneously agreeing to repurchase it at a future date for a predetermined price.\n",
    "\n",
    "2. **Exchange of Bond for Cash**:\n",
    "   - The **TRADER** delivers the bond to the **REPO DEALER**.\n",
    "   - In return, the **REPO DEALER** pays the **TRADER** an amount equal to $P_t$ minus a \"haircut.\" The haircut is a discount on the bond's value, which serves as a protection for the dealer against the risk of the bond's price decline.\n",
    "\n",
    "### At Time $T = t + n \\text{ days}$\n",
    "\n",
    "3. **Repurchase of the Bond**:\n",
    "   - At the end of the repo term, the **TRADER** repurchases the bond from the **REPO DEALER**.\n",
    "   - The repurchase price is calculated as $(P_t - \\text{haircut}) \\times \\left(1 + \\frac{\\text{repo rate} \\times n}{360}\\right)$, where the repo rate is the interest rate agreed upon for the repo, and $n$ is the number of days the repo agreement lasts.\n",
    "\n",
    "4. **Unwinding Bond Financing**:\n",
    "   - The **TRADER** pays the calculated repurchase price to the **REPO DEALER** and receives the bond back.\n",
    "   - If the **TRADER** does not refinance the bond, the **TRADER** sells the bond back to the **MARKET** for a price of $P_T$.\n",
    "\n",
    "The repo transaction allows the **TRADER** to obtain short-term financing by temporarily transferring a security to a **REPO DEALER** in exchange for cash, with the agreement to buy back the security at a later date for a slightly higher price, the difference being equivalent to the interest on the loan. The repo rate effectively acts as the interest rate on the cash borrowed by the **TRADER**.\n",
    "\n",
    "In quantitative finance, repos are commonly used to raise short-term capital. They are also used for leveraged trades and managing liquidity. Repos are secured loans because they involve the transfer of securities; they are usually seen as low-risk instruments because the terms of the transaction are secured by the collateral, which is the bond in this case. That said, they can be used to create highly levered positions which are not low risk."
   ]
  },
  {
   "cell_type": "markdown",
   "id": "b2ab4d4f",
   "metadata": {},
   "source": [
    "\n",
    "The haircut on the repo pins down the maximum amount of leverage that can be obtained with the repo. Such a position is highly risky.\n",
    "\n",
    "$$\n",
    "\\text{Repo interest} = \\frac{n}{360} \\times \\text{Repo rate} \\times (P_t - \\text{haircut})\n",
    "$$\n",
    "and\n",
    "$$\n",
    "\\text{Return on capital for TRADER} = \\frac{P_T - P_t - \\text{Repo interest}}{\\text{Haircut}}\n",
    "$$\n",
    "\n",
    "Consider some back-of-the-envelop calculations within a highly simplified 2-period model to demonstrate this:\n",
    "\n",
    "**Example 1:**\n",
    "No leverage, interest rates go down from 4\\% to 3\\%\n",
    "\n",
    "$$Ret = (97 – 92 – 4)/92 = 1.1\\%$$\n",
    "\n",
    "**Example 2:**\n",
    "Full leverage, interest rates go down from 4\\% to 3\\%\n",
    "\n",
    "$$Ret = (97 – 92 – 4)/(92*0.02) = 54\\%$$\n",
    "\n",
    "**Example 3:**\n",
    "Full leverage, interest rates go up from 4\\% to 5\\%\n",
    "\n",
    "$$Ret = (95 – 92 – 4)/(92*0.02) = -54\\%$$\n"
   ]
  },
  {
   "cell_type": "markdown",
   "id": "13d415df",
   "metadata": {},
   "source": [
    "## Money market dislocations and the repo rate spikes of 2018-2019\n",
    "\n",
    "Repo rates are the interest rates at which financial institutions borrow or lend funds via repurchase agreements (repos). In recent years, there have been several notable spikes in these rates. The most significant spike occurred in September 2019, although smaller spikes also occurred throughout 2018 and 2019. A repo spike refers to a sudden, substantial increase in repo rates within the financial market. These spikes indicate an abrupt imbalance in the supply and demand for funds in the repo market, leading to an increase in borrowing costs. Such spikes can disrupt the financial system and may signal deeper issues related to liquidity and funding stress.\n",
    "\n",
    "Additionally, these rate spikes can be seen as dislocations in the money markets. Specifically, these repo spikes represented significant deviations between repo rates and the interest on reserve balances or the Federal Reserve's Overnight Reverse Repo Facility rate (ON/RRP rate). These dislocations imply potential arbitrage opportunities, suggesting that institutions capable of earning interest on reserves or with access to the Fed's ON/RRP facility should theoretically show no preference between using these facilities and lending in the repo markets. Since lending in repo markets typically involves overcollateralization with Treasury securities and occurs overnight, repo market rates should align closely with other near risk-free rates. Understanding the causes of these deviations is crucial for grasping their implications for the financial sector.\n",
    "\n",
    "## Relationship to Quantitative Investors\n",
    "\n",
    "See here: https://www.bloomberg.com/news/articles/2023-12-20/inside-the-basis-trade-hedge-fund-traders-dominate-gigantic-bond-bet\n",
    "\n",
    "![The Hedge Fund Traders Dominating a Massive Bet on Bonds](./assets/hw01_basis_hf.png)\n",
    "\n",
    "And here: https://www.bloomberg.com/opinion/articles/2024-01-08/the-fed-won-t-do-slow-and-steady-if-the-labor-market-wobbles\n",
    "\n",
    "![Year-End Money-Markets Angst on Fed Exit Echoes 2018 Crunch](./assets/hw01_repo_vol.png)\n",
    "\n",
    "What is a basis trade. From this [Reuters article](https://www.reuters.com/markets/us/fed-economists-sound-alarm-hedge-funds-gaming-us-treasuries-2023-09-13/), they say:\n",
    "\n",
    "> Hedge funds' short positions in some Treasuries futures - contracts for the purchase and sale of bonds for future delivery - have recently hit record highs as part of so-called basis trades, which take advantage of the premium of futures contracts over the price of the underlying bonds, analysts have said.\n",
    ">\n",
    "> The trades - typically the domain of macro hedge funds with relative value strategies - consist of selling a futures contract, buying Treasuries deliverable into that contract with repurchase agreement (repo) funding, and delivering them at contract expiry.\n",
    "\n",
    "The involvement of hedge funds and other asset management companies in this space have receive a lot of attention recently. Some examples:\n",
    "\n",
    " - [Citadel’s Ken Griffin warns against hedge fund clampdown to curb basis trade risk](https://www.ft.com/content/927aba63-eff3-44c4-a5df-a5872e988720)\n",
    " - [Taming the Treasury basis trade](https://www.ft.com/content/6a752818-3f05-45da-a6f9-c752710d0a9f)\n",
    " - [Citadel and Its Peers Are Piling Into the Same Trades. Regulators Are Taking Notice](https://www.bloomberg.com/news/articles/2023-11-30/ken-griffin-s-citadel-hedge-fund-rivals-draw-scrutiny-over-crowding-leverage)\n",
    " - [Fed's reverse repo facility drawdown looms large in balance sheet debate](https://www.reuters.com/markets/us/feds-reverse-repo-facility-drawdown-looms-large-balance-sheet-debate-2023-10-31/)\n",
    " - [Fed economists sound alarm on hedge funds gaming US Treasuries](https://www.reuters.com/markets/us/fed-economists-sound-alarm-hedge-funds-gaming-us-treasuries-2023-09-13/)\n",
    "\n",
    "## Understanding Repo Markets Are Important to Understanding the Risks involved in this Trade \n",
    "\n",
    "In this homework assignment, we'll create some charts to better understand this market. I also recommend reading this paper, [Kahn et al (2023). \"Anatomy of the Repo Rate Spikes in September 2019.\" Journal of Financial Crises 5, no. 4 (2023): 1-25.](https://elischolar.library.yale.edu/journal-of-financial-crises/vol5/iss4/1/)\n",
    "\n",
    "We'll replicate Figure 1 from this paper. "
   ]
  },
  {
   "cell_type": "code",
   "execution_count": null,
   "id": "120c576e",
   "metadata": {},
   "outputs": [],
   "source": [
    "import pandas as pd\n",
    "import numpy as np\n",
    "from matplotlib import pyplot as plt\n",
    "\n",
    "import load_repo_data"
   ]
  },
  {
   "cell_type": "code",
   "execution_count": null,
   "id": "132cd388",
   "metadata": {},
   "outputs": [],
   "source": [
    "from pathlib import Path\n",
    "import config\n",
    "\n",
    "OUTPUT_DIR = Path(config.output_dir)\n",
    "DATA_DIR = Path(config.data_dir)"
   ]
  },
  {
   "cell_type": "markdown",
   "id": "86afe6ab",
   "metadata": {},
   "source": [
    "## Repo Rates and Fed Funds Rates\n",
    "Replicate Figure 1 from \"Anatomy of the Repo Rate Spikes\""
   ]
  },
  {
   "cell_type": "code",
   "execution_count": null,
   "id": "fda49ba9",
   "metadata": {},
   "outputs": [],
   "source": [
    "load_repo_data.series_descriptions"
   ]
  },
  {
   "cell_type": "code",
   "execution_count": null,
   "id": "4bb05ae0",
   "metadata": {},
   "outputs": [],
   "source": [
    "new_labels = {\n",
    "    'REPO-TRI_AR_OO-P':'Tri-Party Overnight Average Rate',\n",
    "    'RRPONTSYAWARD': 'ON-RRP facility rate',\n",
    "    'Gen_IORB': 'Interest on Reserves', # This series uses FRED's Interest on \n",
    "    # Reserve Balances series. However, this doesn't go back very far, so it is\n",
    "    # backfilled with interest on excess reserves when necessary.\n",
    "}"
   ]
  },
  {
   "cell_type": "code",
   "execution_count": null,
   "id": "499204af",
   "metadata": {},
   "outputs": [],
   "source": [
    "df = load_repo_data.load_all(data_dir = DATA_DIR)"
   ]
  },
  {
   "cell_type": "markdown",
   "id": "725b2434",
   "metadata": {},
   "source": [
    "The following plot show the effective fed funds rate (from FRED), the tri-party overnight average rate (from the OFR series `REPO-TRI_AR_OO-P`), and the shaded region shows the lower and upper limit of the federal funds target range (`DFEDTARL` and `DFEDTARU`)."
   ]
  },
  {
   "cell_type": "code",
   "execution_count": null,
   "id": "4bd26582",
   "metadata": {    
    "tags": [
     "remove-input"
    ]
},
   "outputs": [],
   "source": [
    "fig, ax = plt.subplots()\n",
    "ax.fill_between(df.index, df['DFEDTARU'], df['DFEDTARL'], alpha=0.5)\n",
    "df[['REPO-TRI_AR_OO-P', 'EFFR']].rename(columns=new_labels).plot(ax=ax)"
   ]
  },
  {
   "cell_type": "markdown",
   "id": "fdc7bdf1",
   "metadata": {},
   "source": [
    "In the following plot, we zoom in a little to see just how large these spikes were."
   ]
  },
  {
   "cell_type": "code",
   "execution_count": null,
   "id": "6efb0afb",
   "metadata": {    
    "tags": [
     "remove-input"
    ]
},
   "outputs": [],
   "source": [
    "fig, ax = plt.subplots()\n",
    "date_start = '2014-Aug'\n",
    "date_end = '2019-Dec'\n",
    "_df = df.loc[date_start:date_end, :]\n",
    "ax.fill_between(_df.index, _df['DFEDTARU'], _df['DFEDTARL'], alpha=0.5)\n",
    "_df[['REPO-TRI_AR_OO-P', 'EFFR']].rename(columns=new_labels).plot(ax=ax)\n",
    "# plt.ylim(-0.2, 1.0)"
   ]
  },
  {
   "cell_type": "markdown",
   "id": "aeb2e9b4",
   "metadata": {},
   "source": [
    "Normalize rates to be centered at the fed funds target window midpoint."
   ]
  },
  {
   "cell_type": "code",
   "execution_count": null,
   "id": "57c77dfe",
   "metadata": {    
    "tags": [
     "remove-input"
    ]
},
   "outputs": [],
   "source": [
    "df_norm = df.copy()\n",
    "df['target_midpoint'] = (df['DFEDTARU'] + df['DFEDTARL'])/2\n",
    "for s in ['DFEDTARU', 'DFEDTARL', 'REPO-TRI_AR_OO-P', \n",
    "          'EFFR', 'target_midpoint', \n",
    "          'Gen_IORB', 'RRPONTSYAWARD', 'SOFR']:\n",
    "    df_norm[s] = df[s] - df['target_midpoint']\n"
   ]
  },
  {
   "cell_type": "markdown",
   "id": "49b8e383",
   "metadata": {},
   "source": [
    "Now, plot the series that is normalized by the fed funds target midpoint."
   ]
  },
  {
   "cell_type": "code",
   "execution_count": null,
   "id": "0852575f",
   "metadata": {    
    "tags": [
     "remove-input"
    ]
},
   "outputs": [],
   "source": [
    "fig, ax = plt.subplots()\n",
    "date_start = '2014-Aug'\n",
    "date_end = '2019-Dec'\n",
    "_df = df_norm.loc[date_start:date_end, :]\n",
    "ax.fill_between(_df.index, _df['DFEDTARU'], _df['DFEDTARL'], alpha=0.2)\n",
    "_df[['REPO-TRI_AR_OO-P', 'EFFR']].rename(columns=new_labels).plot(ax=ax)\n",
    "plt.ylim(-0.4, 1.0)\n",
    "plt.ylabel(\"Spread of federal feds target midpoint (percent)\")\n",
    "arrowprops = dict( \n",
    "    arrowstyle = \"->\"\n",
    ")\n",
    "ax.annotate('Sep. 17, 2019: 3.06%', \n",
    "            xy=('2019-Sep-17', 0.95), \n",
    "            xytext=('2017-Oct-27', 0.9),\n",
    "            arrowprops = arrowprops);"
   ]
  },
  {
   "cell_type": "markdown",
   "id": "67eb402b",
   "metadata": {},
   "source": [
    "Now, let's consider interest on reserves as well as the ON-RRP rate, as these in theory put bounds on the repo rate."
   ]
  },
  {
   "cell_type": "code",
   "execution_count": null,
   "id": "34df5d1c",
   "metadata": {    
    "tags": [
     "remove-input"
    ]
},
   "outputs": [],
   "source": [
    "fig, ax = plt.subplots()\n",
    "date_start = '2014-Aug'\n",
    "date_end = '2019-Dec'\n",
    "_df = df_norm.loc[date_start:date_end, :].copy()\n",
    "\n",
    "ax.fill_between(_df.index, _df['DFEDTARU'], _df['DFEDTARL'], alpha=0.2)\n",
    "_df[['REPO-TRI_AR_OO-P', 'EFFR', 'Gen_IORB', 'RRPONTSYAWARD']].rename(columns=new_labels).plot(ax=ax)\n",
    "plt.ylim(-0.4, 1.0)\n",
    "plt.ylabel(\"Spread of federal feds target midpoint (percent)\")\n",
    "arrowprops = dict( \n",
    "    arrowstyle = \"->\"\n",
    ")\n",
    "ax.annotate('Sep. 17, 2019: 3.06%', \n",
    "            xy=('2019-Sep-17', 0.95), \n",
    "            xytext=('2017-Oct-27', 0.9),\n",
    "            arrowprops = arrowprops);"
   ]
  },
  {
   "cell_type": "code",
   "execution_count": null,
   "id": "8b0f8fb3",
   "metadata": {    
    "tags": [
     "remove-input"
    ]
},
   "outputs": [],
   "source": [
    "fig, ax = plt.subplots()\n",
    "date_start = '2018-Apr'\n",
    "date_end = None\n",
    "_df = df_norm.loc[date_start:date_end, :].copy()\n",
    "\n",
    "ax.fill_between(_df.index, _df['DFEDTARU'], _df['DFEDTARL'], alpha=0.1)\n",
    "_df[['SOFR', 'EFFR', 'Gen_IORB', 'RRPONTSYAWARD']].rename(columns=new_labels).plot(ax=ax)\n",
    "plt.ylim(-0.4, 1.0)\n",
    "plt.ylabel(\"Spread of federal feds target midpoint (percent)\")\n",
    "arrowprops = dict( \n",
    "    arrowstyle = \"->\"\n",
    ")\n",
    "ax.legend(loc='center left', bbox_to_anchor=(1, 0.5))\n",
    "# ax.annotate('Sep. 17, 2019: 3.06%', \n",
    "#             xy=('2019-Sep-17', 0.95), \n",
    "#             xytext=('2015-Oct-27', 0.9),\n",
    "#             arrowprops = arrowprops);\n"
   ]
  },
  {
   "cell_type": "code",
   "execution_count": null,
   "id": "63203a19",
   "metadata": {    
    "tags": [
     "remove-input"
    ]
},
   "outputs": [],
   "source": [
    "fig, ax = plt.subplots()\n",
    "date_start = '2023-Jul'\n",
    "date_end = None\n",
    "_df = df_norm.loc[date_start:date_end, :].copy()\n",
    "\n",
    "ax.fill_between(_df.index, _df['DFEDTARU'], _df['DFEDTARL'], alpha=0.1)\n",
    "_df[['SOFR', 'EFFR', 'Gen_IORB', 'RRPONTSYAWARD']].rename(columns=new_labels).plot(ax=ax)\n",
    "plt.ylim(-0.4, 1.0)\n",
    "plt.ylabel(\"Spread of federal feds target midpoint (percent)\")\n",
    "arrowprops = dict( \n",
    "    arrowstyle = \"->\"\n",
    ")\n",
    "ax.legend(loc='center left', bbox_to_anchor=(1, 0.5))\n",
    "# ax.annotate('Sep. 17, 2019: 3.06%', \n",
    "#             xy=('2019-Sep-17', 0.95), \n",
    "#             xytext=('2015-Oct-27', 0.9),\n",
    "#             arrowprops = arrowprops);\n"
   ]
  },
  {
   "cell_type": "code",
   "execution_count": null,
   "id": "d0594ea6",
   "metadata": {},
   "outputs": [],
   "source": [
    "df['SOFR-IORB'] = df['SOFR'] - df['Gen_IORB']\n",
    "df.loc['2018':'2020', ['SOFR-IORB']].plot()"
   ]
  },
  {
   "cell_type": "code",
   "execution_count": null,
   "id": "80961dd1",
   "metadata": {},
   "outputs": [],
   "source": [
    "df.loc['2018':, ['SOFR-IORB']].plot()"
   ]
  },
  {
   "cell_type": "markdown",
   "id": "e33e5e5e",
   "metadata": {},
   "source": [
    "# Understanding this plot\n",
    "\n",
    "Now, let's spend some time trying to understand this plot. \n",
    "\n",
    "## Reserve Levels vs Spikes\n",
    "First of all, depository intitutions have a choice between keeping their reserves at the Fed and earning interest on reserve balances or lending the money into repo. When the repo rates were spiking in 2018 and 2019, I would imagine that total reserve levels would be low."
   ]
  },
  {
   "cell_type": "code",
   "execution_count": null,
   "id": "4876b467",
   "metadata": {},
   "outputs": [],
   "source": [
    "df['net_fed_repo'] = (df['RPONTSYD'] - df['RRPONTSYD']) / 1000\n",
    "df['triparty_less_fed_onrrp_rate'] = (df['REPO-TRI_AR_OO-P'] - df['RRPONTSYAWARD']) * 100\n",
    "df['total reserves / currency'] = df['TOTRESNS'] / df['CURRCIR']"
   ]
  },
  {
   "cell_type": "code",
   "execution_count": null,
   "id": "730192f7",
   "metadata": {},
   "outputs": [],
   "source": [
    "fig, ax1 = plt.subplots()\n",
    "ax2 = ax1.twinx()\n",
    "df[['TOTRESNS']].rename(\n",
    "    columns=load_repo_data.series_descriptions\n",
    ").plot(ax=ax1,color='g')\n",
    "ax1.set_ylabel('$ Billions')\n",
    "ax2.set_ylabel('Basis Points')\n",
    "ax1.legend(loc='center left', bbox_to_anchor=(1, 1.1))\n",
    "df[['triparty_less_fed_onrrp_rate']].rename(\n",
    "    columns={'triparty_less_fed_onrrp_rate':'Tri-Party - Fed ON/RRP Rate'}\n",
    ").plot(ax=ax2)\n",
    "ax2.legend(loc='center left', bbox_to_anchor=(1, 1));\n"
   ]
  },
  {
   "cell_type": "markdown",
   "id": "18f7c19d",
   "metadata": {},
   "source": [
    "Now, let's normalize by currency in circulation, so as to account for the normal growth in the economy or the financial system. This is done because total reserves is not stationary."
   ]
  },
  {
   "cell_type": "code",
   "execution_count": null,
   "id": "4a0c5294",
   "metadata": {},
   "outputs": [],
   "source": [
    "fig, ax1 = plt.subplots()\n",
    "ax2 = ax1.twinx()\n",
    "df[['total reserves / currency']].plot(ax=ax1,color='g')\n",
    "df[['triparty_less_fed_onrrp_rate']].rename(\n",
    "    columns={'triparty_less_fed_onrrp_rate':'Tri-Party - Fed ON/RRP Rate'}\n",
    ").plot(ax=ax2)\n",
    "ax1.set_ylabel('Ratio')\n",
    "ax2.set_ylabel('Basis Points')\n",
    "ax1.legend(loc='center left', bbox_to_anchor=(1, 1.1))\n",
    "ax2.legend(loc='center left', bbox_to_anchor=(1, 1));\n",
    "# Total Reserves held by depository institutions, divided by currency in circulation"
   ]
  },
  {
   "cell_type": "markdown",
   "id": "d442e5ee",
   "metadata": {},
   "source": [
    "## Fed Repo and Reverse Repo Facility Takeup"
   ]
  },
  {
   "cell_type": "code",
   "execution_count": null,
   "id": "d5204037",
   "metadata": {},
   "outputs": [],
   "source": [
    "df[['RPONTSYD','RRPONTSYD']].rename(\n",
    "    columns=load_repo_data.series_descriptions\n",
    ").plot(alpha=0.5)"
   ]
  },
  {
   "cell_type": "code",
   "execution_count": null,
   "id": "31d89da3",
   "metadata": {},
   "outputs": [],
   "source": [
    "# Net Fed Repo Lending (positive is net lending by the Fed.\n",
    "# Negative is the use of the reverse repo facility.)\n",
    "df[['net_fed_repo']].plot()\n",
    "plt.ylabel('$ Trillions');"
   ]
  },
  {
   "cell_type": "code",
   "execution_count": null,
   "id": "deacdacc",
   "metadata": {},
   "outputs": [],
   "source": [
    "# TODO\n",
    "# # Net Fed Repo Lending (positive is net lending by the Fed.\n",
    "# # Negative is the use of the reverse repo facility.)\n",
    "# df.loc['2023',['net_fed_repo']].plot()\n",
    "# plt.ylabel('$ Trillions');"
   ]
  },
  {
   "cell_type": "code",
   "execution_count": null,
   "id": "d8c5229b",
   "metadata": {},
   "outputs": [],
   "source": [
    "df[['net_fed_repo', 'triparty_less_fed_onrrp_rate']].plot()\n",
    "plt.ylim([-50,100])"
   ]
  },
  {
   "cell_type": "markdown",
   "id": "895f0ebb",
   "metadata": {},
   "source": [
    "The Fed is lending money when the repo rate is spiking. When the repo rate is low relative to the ON/RRP rate, usage of the ON/RRP facility goes up, as can be seen here."
   ]
  },
  {
   "cell_type": "code",
   "execution_count": null,
   "id": "83c52b09",
   "metadata": {},
   "outputs": [],
   "source": [
    "fig, ax1 = plt.subplots()\n",
    "ax2 = ax1.twinx()\n",
    "df[['net_fed_repo']].plot(ax=ax1,color='g')\n",
    "df[['triparty_less_fed_onrrp_rate']].plot(ax=ax2)"
   ]
  },
  {
   "cell_type": "markdown",
   "id": "ead921bb",
   "metadata": {},
   "source": [
    "# How should we define a repo spike?\n",
    "\n",
    "Now, I turn to the question of how to define a repo rate spike. \n",
    "\n",
    "## Fed Fund's Target Range\n",
    "\n",
    "The first way to approach this is to just look at when the triparty rate exceeded the upper bound of the fed's federal funds rate target range."
   ]
  },
  {
   "cell_type": "markdown",
   "id": "58f500b2",
   "metadata": {},
   "source": [
    "**Tri-Party Ave vs Fed Upper Limit**"
   ]
  },
  {
   "cell_type": "code",
   "execution_count": null,
   "id": "de1f53e6",
   "metadata": {},
   "outputs": [],
   "source": [
    "df['is_tri_above_fed_upper'] = df['REPO-TRI_AR_OO-P'] > df['DFEDTARU']"
   ]
  },
  {
   "cell_type": "code",
   "execution_count": null,
   "id": "ae21b8d2",
   "metadata": {},
   "outputs": [],
   "source": [
    "df.index[df['is_tri_above_fed_upper']]"
   ]
  },
  {
   "cell_type": "code",
   "execution_count": null,
   "id": "78d9265e",
   "metadata": {},
   "outputs": [],
   "source": [
    "len(df.index[df['is_tri_above_fed_upper']])"
   ]
  },
  {
   "cell_type": "markdown",
   "id": "00938f92",
   "metadata": {},
   "source": [
    "**SOFR vs Fed Upper Limit**"
   ]
  },
  {
   "cell_type": "code",
   "execution_count": null,
   "id": "86be9b0c",
   "metadata": {},
   "outputs": [],
   "source": [
    "df['is_SOFR_above_fed_upper'] = df['SOFR'] > df['DFEDTARU']\n",
    "len(df.index[df['is_SOFR_above_fed_upper']])"
   ]
  },
  {
   "cell_type": "code",
   "execution_count": null,
   "id": "951f8236",
   "metadata": {},
   "outputs": [],
   "source": [
    "df.index[df['is_SOFR_above_fed_upper']]"
   ]
  },
  {
   "cell_type": "markdown",
   "id": "f8c1661c",
   "metadata": {},
   "source": [
    "**SOFR vs Interest of Reserves**\n",
    "\n",
    "This measure is good because it represents a kind of arbitrage opportunity. Either leave money at Fed to earn interest, or put money into repo market. This is what the paper, \"Reserves were not so amply after all\" uses."
   ]
  },
  {
   "cell_type": "code",
   "execution_count": null,
   "id": "574bd4c2",
   "metadata": {},
   "outputs": [],
   "source": [
    "df[['SOFR-IORB']].dropna(how='all').plot()"
   ]
  },
  {
   "cell_type": "code",
   "execution_count": null,
   "id": "087ca0a9",
   "metadata": {},
   "outputs": [],
   "source": [
    "df['is_SOFR_above_IORB'] =df['SOFR-IORB'] > 0\n",
    "len(df.index[df['is_SOFR_above_IORB']])"
   ]
  },
  {
   "cell_type": "code",
   "execution_count": null,
   "id": "8e79c5ee",
   "metadata": {},
   "outputs": [],
   "source": [
    "df.index[df['is_SOFR_above_IORB']]"
   ]
  },
  {
   "cell_type": "markdown",
   "id": "054f4a5b",
   "metadata": {},
   "source": [
    "Now, let's ask if it's 2 standard deviations above IORB"
   ]
  },
  {
   "cell_type": "code",
   "execution_count": null,
   "id": "d7623e90",
   "metadata": {},
   "outputs": [],
   "source": [
    "df['SOFR-IORB'].std()"
   ]
  },
  {
   "cell_type": "code",
   "execution_count": null,
   "id": "b45e9921",
   "metadata": {},
   "outputs": [],
   "source": [
    "df['is_SOFR_2std_above_IORB'] = df['SOFR-IORB'] > 2 * df['SOFR-IORB'].std()\n",
    "len(df.index[df['is_SOFR_2std_above_IORB']])"
   ]
  },
  {
   "cell_type": "code",
   "execution_count": null,
   "id": "819655bc",
   "metadata": {},
   "outputs": [],
   "source": [
    "df.index[df['is_SOFR_2std_above_IORB']]"
   ]
  },
  {
   "cell_type": "code",
   "execution_count": null,
   "id": "b1e8dd5a",
   "metadata": {},
   "outputs": [],
   "source": [
    "df['SOFR-IORB'].mean()"
   ]
  },
  {
   "cell_type": "code",
   "execution_count": null,
   "id": "da931e3f",
   "metadata": {},
   "outputs": [],
   "source": [
    "df.index[df['is_SOFR_2std_above_IORB']].intersection(df.index[df['is_SOFR_above_fed_upper']])"
   ]
  },
  {
   "cell_type": "code",
   "execution_count": null,
   "id": "d57efd83",
   "metadata": {},
   "outputs": [],
   "source": [
    "len(df.index[df['is_SOFR_2std_above_IORB']].intersection(df.index[df['is_SOFR_above_fed_upper']]))"
   ]
  },
  {
   "cell_type": "code",
   "execution_count": null,
   "id": "43bde332",
   "metadata": {},
   "outputs": [],
   "source": [
    "# filedir = Path(OUTPUT_DIR)\n",
    "# df[\n",
    "#     ['is_SOFR_above_fed_upper', 'is_SOFR_2std_above_IORB', \n",
    "#     'is_SOFR_above_IORB', 'is_tri_above_fed_upper']\n",
    "#   ].to_csv(filedir / 'is_spike.csv')"
   ]
  },
  {
   "cell_type": "markdown",
   "id": "43884fee",
   "metadata": {},
   "source": [
    "# Summary Stats about Various Repo Rates"
   ]
  },
  {
   "cell_type": "code",
   "execution_count": null,
   "id": "1ed514b3",
   "metadata": {},
   "outputs": [],
   "source": [
    "df.info()"
   ]
  },
  {
   "cell_type": "markdown",
   "id": "68438f14",
   "metadata": {},
   "source": [
    "I don't include GCF in this first comparison, because it has a lot of missing values. I want to only compare values for which all rates are non-null. That's why I drop the whole row when any rate is missing.\n",
    "\n",
    "Here, we see that DVP average is lower than Triparty average. SOFR is closer to triparty, but is still lower. This is because SOFR tries to remove specials.\n",
    "\n",
    "Notice, however, that this is different when comparing the 75% percentiles. SOFR is higher than triparty and DVP is even higher."
   ]
  },
  {
   "cell_type": "code",
   "execution_count": null,
   "id": "c970e30d",
   "metadata": {},
   "outputs": [],
   "source": [
    "df[['SOFR', 'REPO-TRI_AR_OO-P', 'REPO-DVP_AR_OO-P']].dropna().describe()"
   ]
  },
  {
   "cell_type": "markdown",
   "id": "c4c92ed0",
   "metadata": {},
   "source": [
    "Now, I include GCF. It appears that GCF is the highest. Borrow low at tri-party, lend higher into SOFR (but lower to specials) and lend highest to GCF."
   ]
  },
  {
   "cell_type": "code",
   "execution_count": null,
   "id": "20daf0e5",
   "metadata": {},
   "outputs": [],
   "source": [
    "df[['SOFR', 'REPO-TRI_AR_OO-P', 'REPO-DVP_AR_OO-P', 'REPO-GCF_AR_OO-P']].dropna().describe()"
   ]
  }
 ],
 "metadata": {
  "language_info": {
   "name": "python"
  }
 },
 "nbformat": 4,
 "nbformat_minor": 5
}
